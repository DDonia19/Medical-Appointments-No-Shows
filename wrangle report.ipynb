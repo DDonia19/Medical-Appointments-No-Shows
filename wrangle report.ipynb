{
 "cells": [
  {
   "cell_type": "markdown",
   "id": "d829de59",
   "metadata": {},
   "source": [
    "<h1><center><font color='red'>Wrangle Report</font></center></h1>\n",
    "\n"
   ]
  },
  {
   "cell_type": "markdown",
   "id": "2612d07b",
   "metadata": {},
   "source": [
    ">**The wrangling process has three main steps: gathering data, assessing data and cleaning the data.\\\n",
    "In this report we will document each step.**"
   ]
  },
  {
   "cell_type": "markdown",
   "id": "a55e17b1",
   "metadata": {},
   "source": [
    "## <font color='blue'>Data Gathering:</font>"
   ]
  },
  {
   "cell_type": "markdown",
   "id": "6e92e6e6",
   "metadata": {},
   "source": [
    "For this project, we need three pieces of data for a complete analysis.\\\n",
    " * **The WeRateDogs Twitter archive:**\n",
    " This file is provided by WeRateDogs. They  downloaded their Twitter archive and sent it to Udacity via email. Therefore, it was a simple download.\n",
    " * **The tweet image predictions:**\n",
    " This file is hosted in Udacity's servers. Therefor, it should be downloaded programmatically using the **Requests** library.\n",
    " * **Additional data from the Twitter API:**\n",
    " I had a problem with my twitter developer account. Therefor, I used the existing tweet_json provided by Udacity. \n",
    " "
   ]
  },
  {
   "cell_type": "markdown",
   "id": "28a9ee4f",
   "metadata": {},
   "source": [
    "## <font color='blue'>Assessing data:</font>"
   ]
  },
  {
   "cell_type": "markdown",
   "id": "e4b7d72f",
   "metadata": {},
   "source": [
    "In this step , the data should be assessed visually and programmaticly to detect quality and tidiness issues.\\\n",
    ">**Quality issues:**\n",
    "* For this project, we only need original ratings that have images. Therefor, the non null rows of the follwing columns `in_reply_to_status_id` and `retweeted_status_id` should be deleted. After that, there is no need for the unnecessary columns ( in_reply_to_status_id, in_reply_to_user_id, retweeted_status_id, retweeted_status_user_id, retweeted_status_timestamp )   \n",
    "* The tweet_id is an 'Int' data type in the 3 datasets using the info() function, should be changed to string. As well as, the timestamps is an object and should be changed to datetime and renamed properly.\n",
    "* The name column: using the 'value_counts() function, there are missing names, invalid names like a, the, an, ... and wrongly extracted.\n",
    "* The rating numerator and denominatoe columns: It is a big part of the popularity of WeRateGogs, that the rating numerators are greater than deniminator. However, in some cases the rating numerator was different than 10 and the rating denominator was too high or too low.\n",
    "* Dog stages should be a category data type\n",
    "* In the Image_predictions table, the names of the columns should be more descriptive\n",
    "* Inconsistency in the breed columns names and seperated with an underscore\n",
    "* Dog breed should be a category data type\n",
    ">**Tidiness issues:**\n",
    "* The `doggo, floofer, pupper, puppo` should present one column with the name `dog stages`\n",
    "* To have a tidy dataset, all tables should present one dataset.  "
   ]
  },
  {
   "cell_type": "markdown",
   "id": "58cb9de4",
   "metadata": {},
   "source": [
    "## <font color='blue'>Cleaning data:</font>"
   ]
  },
  {
   "cell_type": "markdown",
   "id": "77ed2812",
   "metadata": {},
   "source": [
    "* First of all, I removed the rows that contain non null data in the in_reply_to_status_id and retweeted_status_id columns, then, I dropped the unnecessary columns ( in_reply_to_status_id, in_reply_to_user_id, retweeted_status_id, retweeted_status_user_id, retweeted_status_timestamp ).\n",
    "* I used the `to_datetime()` function to change the type to datetime and I used the `rename()` function to set the new name as '**tweet_date**'. Then, Iused the `astype()` function to change the type of the tweet_id to a string type for the 3 datasets.\n",
    "* Next, I had to concatenate the 4 columns of the dog stages to continue the cleaning with a more tidy data. The results are: pupper, doggo, puppo, floofer, doggopupper, doggopuppo and doggofloofer. I had to assess the stages that contains two type of stages one by one. Some of them was not even a data of a dog, therefor I deleted it, others were even for two dogs presented in the same picture or simply wrong therefor, I changed it manually. \n",
    "* After having a tidy dataset, I changed the Dog stages to a category data type.\n",
    "* "
   ]
  },
  {
   "cell_type": "code",
   "execution_count": null,
   "id": "df0ebf5b",
   "metadata": {},
   "outputs": [],
   "source": []
  }
 ],
 "metadata": {
  "kernelspec": {
   "display_name": "Python 3 (ipykernel)",
   "language": "python",
   "name": "python3"
  },
  "language_info": {
   "codemirror_mode": {
    "name": "ipython",
    "version": 3
   },
   "file_extension": ".py",
   "mimetype": "text/x-python",
   "name": "python",
   "nbconvert_exporter": "python",
   "pygments_lexer": "ipython3",
   "version": "3.8.13"
  }
 },
 "nbformat": 4,
 "nbformat_minor": 5
}
